{
 "cells": [
  {
   "cell_type": "markdown",
   "metadata": {},
   "source": [
    "# demo for partially observed data\n",
    "\n",
    "- in this example, we apply S3ID **spatiotemporally subsampled data** in the form of three sequentially observed subpopulations\n",
    "- we generate data from a linear dynamical system with $p=100$ observed and $n=4$ latent variables:\n",
    "  $$ x_{t} = A x_{t-1} + \\eta_t \\\\    \n",
    "     y_t = C x_t + \\epsilon_t, $$\n",
    "     with emission noise $\\epsilon_t \\sim \\mathcal{N}(0, R)$ for diagonal matrix $R \\in \\mathbb{R}_{+}^{p\\times{}p}$ and innovation noise $\\eta_t \\sim \\mathcal{N}(0, Q)$ with $Q\\in\\mathbb{R}^{n\\times{}n}$\n",
    "- we run S3ID to estimate the latent space $C\\in\\mathbb{R}^{p\\times{}n}$, emission noise levels $R$ and time-lagged latent covariances $X_\\tau = \\mbox{cov}[x_{t+\\tau},x_t] \\in \\mathbb{R}^{n\\times{}n}$ \n"
   ]
  },
  {
   "cell_type": "code",
   "execution_count": null,
   "metadata": {},
   "outputs": [],
   "source": [
    "%matplotlib inline\n",
    "import matplotlib.pyplot as plt\n",
    "import numpy as np\n",
    "from S3ID import main, gen_data, ObservationScheme, principal_angle, comp_model_covariances\n",
    "\n",
    "np.random.seed(42)\n",
    "\n",
    "\n",
    "# define problem size\n",
    "p, n, T = 100, 4, 1000   # number of observed variable, number of hidden variables, length of time-trace\n",
    "\n",
    "# generate toy LDS parameters and data\n",
    "pars_true, x, y, _, _ = gen_data(p,n,[],T)\n",
    "y -= y.mean(axis=0) # ensure zero-mean input\n",
    "\n",
    "plt.figure(figsize=(20,5))\n",
    "plt.plot(x)\n",
    "plt.xlabel('t')\n",
    "plt.ylabel('x_t')\n",
    "plt.title('latent dynamics (n = ' + str(n) + ')')\n",
    "plt.show()\n",
    "\n",
    "# compute first 2*n time-lagged empirical covariances\n",
    "Qe = [np.cov(y[:T-k,:].T, y[k:,:].T)[p:,:p] for k in range(2*n)]\n",
    "\n",
    "print('dynamics eigenvalues', np.linalg.eigvals(pars_true['A']))\n"
   ]
  },
  {
   "cell_type": "markdown",
   "metadata": {},
   "source": [
    "# define observation scheme \n",
    "\n",
    "- here we define three overlapping subpopulations imaged in repeated sequence, each for about 1/3 of the total time"
   ]
  },
  {
   "cell_type": "code",
   "execution_count": null,
   "metadata": {},
   "outputs": [],
   "source": [
    "# define 3 subpopulations j =1,2,3 with overlap: \n",
    "sub_pops = (np.arange(40),     # variables i =  1, ...,  40\n",
    "            np.arange(30, 70), # variables i = 31, ...,  70\n",
    "            np.arange(60,  p)) # variables i = 61, ..., 100\n",
    "\n",
    "# define observation switch-times between subpopulations (starting from t=0)\n",
    "obs_time = np.arange(10, T+1, 10) \n",
    "\n",
    "# define which populations j = 1,2,3 are obseved up to each switch-time:\n",
    "obs_pops = [ i%3 for i in range(len(obs_time))]\n",
    "\n",
    "obs_scheme = ObservationScheme(p,T,sub_pops, obs_pops,obs_time)\n",
    "\n",
    "obs_scheme.gen_mask_from_scheme()\n",
    "obs_scheme.use_mask = False\n",
    "\n",
    "# mask data\n",
    "y[np.where(1-obs_scheme.mask)] = np.nan\n",
    "\n",
    "plt.figure(figsize=(16,5))\n",
    "plt.imshow(y.T)\n",
    "plt.title('masked data')\n",
    "plt.ylabel('#variable')\n",
    "plt.xlabel('time t')\n",
    "plt.show()"
   ]
  },
  {
   "cell_type": "markdown",
   "metadata": {},
   "source": [
    "# monitor subspace distance relatve to ground-truth parameters\n",
    "- we track the **principal angles** between the column-spaces of ground-truth matrix $C$ and our current estimate of $C$ over epochs"
   ]
  },
  {
   "cell_type": "code",
   "execution_count": null,
   "metadata": {},
   "outputs": [],
   "source": [
    "epochs = 150\n",
    "proj_errors = np.zeros((epochs,n))\n",
    "def pars_track(pars,t): \n",
    "    proj_errors[t] = principal_angle(pars_true['C'], pars[0])"
   ]
  },
  {
   "cell_type": "markdown",
   "metadata": {},
   "source": [
    "# fit the model"
   ]
  },
  {
   "cell_type": "code",
   "execution_count": null,
   "metadata": {},
   "outputs": [],
   "source": [
    "lag_range = np.arange(2*n) # matching time-lagged covariances for time-lags tau = 0, 1,.., 2*n-1  \n",
    "\n",
    "pars_est, pars_init, traces, Qs, Om, W, t_desc = main(lag_range, n, y, \n",
    "                                                      obs_scheme, sso=True, \n",
    "                                                      parametrization='nl', # non-linear parametrization\n",
    "                                                      batch_size=1, max_iter=epochs,\n",
    "                                                      pars_track=pars_track, verbose=True)\n",
    "print('total time was ', t_desc)"
   ]
  },
  {
   "cell_type": "markdown",
   "metadata": {},
   "source": [
    "# visualize results\n",
    "\n",
    "- for the chosen observation scheme, not all pair-wise covariances are actually observed within the data\n",
    "- we can query the model fit for all of the pairwise covariances, including the non-observed ones, through\n",
    "  $$ \\mbox{cov}(y_t, y_t) = C X_{0} C^\\top + R \\\\\n",
    "     \\mbox{cov}(y_{t+\\tau}, y_t) = C X_{\\tau} C^\\top $$\n",
    "  from the estimated matrices $C$, $X_\\tau$ and $R$"
   ]
  },
  {
   "cell_type": "code",
   "execution_count": null,
   "metadata": {},
   "outputs": [],
   "source": [
    "Qh = comp_model_covariances(pars_est, lag_range=lag_range) # model-predicted time-lagged covariances\n",
    "\n",
    "plt.figure(figsize=(16,9))\n",
    "plt.subplot(2,4,1)\n",
    "plt.plot(traces[0])\n",
    "plt.title('loss')\n",
    "plt.xlabel('epochs')\n",
    "plt.subplot(2,4,5)\n",
    "plt.plot(proj_errors)\n",
    "plt.title('principcal angles')\n",
    "plt.xlabel('epochs')\n",
    "\n",
    "plt.subplot(2,4,2)\n",
    "plt.imshow(Qs[0], interpolation='None')    # 'Qs' contains covariances computed from the masked data\n",
    "plt.title('empirical instant. cov.')\n",
    "plt.subplot(2,4,3)\n",
    "plt.imshow(Qh[0], interpolation='None')\n",
    "plt.title('est. instant. cov.')\n",
    "plt.subplot(2,4,4)\n",
    "plt.plot(Qe[0][Om[0]], Qh[0][Om[0]], 'g+') # 'Qe' was computed from the unmasked data\n",
    "plt.plot(Qe[0][np.invert(Om[0])], Qh[0][np.invert(Om[0])], 'r+')\n",
    "plt.xlabel('emp. inst. cov.')\n",
    "plt.ylabel('est. inst. cov.')\n",
    "plt.legend(['observed', 'non-observ.'], loc=2)\n",
    "plt.axis('square')\n",
    "\n",
    "tau = 2*n-1\n",
    "plt.subplot(2,4,6)\n",
    "plt.imshow(Qs[tau], interpolation='None')\n",
    "plt.title('empirical cov. at time-lag tau='+str(2*n-1))\n",
    "plt.subplot(2,4,7)\n",
    "plt.imshow(Qh[tau], interpolation='None')\n",
    "plt.title('est. cov. at time-lag tau='+str(2*n-1))\n",
    "plt.subplot(2,4,8)\n",
    "plt.plot(Qe[tau][Om[tau]], Qh[tau][Om[tau]], 'g+')\n",
    "plt.plot(Qe[tau][np.invert(Om[tau])], Qh[tau][np.invert(Om[tau])], 'r+')\n",
    "plt.axis('square')\n",
    "plt.xlabel('emp. lagged cov.')\n",
    "plt.ylabel('est. lagged cov.')\n",
    "plt.legend(['observed', 'non-observ.'], loc=2)\n",
    "    \n",
    "plt.show()"
   ]
  },
  {
   "cell_type": "code",
   "execution_count": null,
   "metadata": {},
   "outputs": [],
   "source": []
  }
 ],
 "metadata": {
  "kernelspec": {
   "display_name": "Python 3",
   "language": "python",
   "name": "python3"
  },
  "language_info": {
   "codemirror_mode": {
    "name": "ipython",
    "version": 3
   },
   "file_extension": ".py",
   "mimetype": "text/x-python",
   "name": "python",
   "nbconvert_exporter": "python",
   "pygments_lexer": "ipython3",
   "version": "3.5.1"
  }
 },
 "nbformat": 4,
 "nbformat_minor": 2
}
