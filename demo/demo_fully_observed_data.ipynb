{
 "cells": [
  {
   "cell_type": "markdown",
   "metadata": {},
   "source": [
    "# demo for fully observed data\n",
    "\n",
    "- in this example, we apply S3ID on fully observed data $y_t, t=1,\\ldots,T$. See another demo for an application to spatiotemporally subsampled data\n",
    "- we generate data from a linear dynamical system with $p=100$ observed and $n=4$ latent variables:\n",
    "  $$ x_{t} = A x_{t-1} + \\eta_t \\\\    \n",
    "     y_t = C x_t + \\epsilon_t, $$\n",
    "     with emission noise $\\epsilon_t \\sim \\mathcal{N}(0, R)$ for diagonal matrix $R \\in \\mathbb{R}_{+}^{p\\times{}p}$ and innovation noise $\\eta_t \\sim \\mathcal{N}(0, Q)$ with $Q\\in\\mathbb{R}^{n\\times{}n}$\n",
    "- we run S3ID to estimate the latent space $C\\in\\mathbb{R}^{p\\times{}n}$, emission noise levels $R$ and time-lagged latent covariances $X_\\tau = \\mbox{cov}[x_{t+\\tau},x_t] \\in \\mathbb{R}^{n\\times{}n}$ \n"
   ]
  },
  {
   "cell_type": "code",
   "execution_count": null,
   "metadata": {},
   "outputs": [],
   "source": [
    "%matplotlib inline\n",
    "import matplotlib.pyplot as plt\n",
    "import numpy as np\n",
    "from S3ID import main, gen_data, ObservationScheme, principal_angle, comp_model_covariances\n",
    "\n",
    "np.random.seed(42)\n",
    "\n",
    "\n",
    "# define problem size\n",
    "p, n, T = 100, 4, 1000   # number of observed variable, number of hidden variables, length of time-trace\n",
    "\n",
    "# generate toy LDS parameters and data\n",
    "pars_true, x, y, _, _ = gen_data(p,n,[],T)\n",
    "y -= y.mean(axis=0) # ensure zero-mean input\n",
    "\n",
    "plt.figure(figsize=(20,5))\n",
    "plt.plot(x)\n",
    "plt.xlabel('t')\n",
    "plt.ylabel('x_t')\n",
    "plt.title('latent dynamics (n = ' + str(n) + ')')\n",
    "plt.show()\n",
    "\n",
    "# compute first 2*n time-lagged empirical covariances\n",
    "Qe = [np.cov(y[:T-k,:].T, y[k:,:].T)[p:,:p] for k in range(2*n)]\n",
    "\n",
    "print('dynamics eigenvalues', np.linalg.eigvals(pars_true['A']))\n"
   ]
  },
  {
   "cell_type": "markdown",
   "metadata": {},
   "source": [
    "# define observation scheme "
   ]
  },
  {
   "cell_type": "code",
   "execution_count": null,
   "metadata": {},
   "outputs": [],
   "source": [
    "obs_scheme = ObservationScheme(p,T) # simplest possible observation scheme: fully observed, \n",
    "                                    # i.e. observe all p variables for all T time points"
   ]
  },
  {
   "cell_type": "markdown",
   "metadata": {},
   "source": [
    "# monitor subspace distance relatve to ground-truth parameters\n",
    "- we track the **principal angles** between the column-spaces of ground-truth matrix $C$ and our current estimate of $C$ over epochs"
   ]
  },
  {
   "cell_type": "code",
   "execution_count": null,
   "metadata": {},
   "outputs": [],
   "source": [
    "epochs = 150\n",
    "proj_errors = np.zeros((epochs,n))\n",
    "def pars_track(pars,t): \n",
    "    proj_errors[t] = principal_angle(pars_true['C'], pars[0])"
   ]
  },
  {
   "cell_type": "markdown",
   "metadata": {},
   "source": [
    "# fit the model"
   ]
  },
  {
   "cell_type": "code",
   "execution_count": null,
   "metadata": {},
   "outputs": [],
   "source": [
    "lag_range = np.arange(2*n) # matching time-lagged covariances for time-lags tau = 0, 1,.., 2*n-1  \n",
    "\n",
    "pars_est, pars_init, traces, _, Om, W, t_desc = main(lag_range, n, y, \n",
    "                                                     obs_scheme, sso=True, \n",
    "                                                     parametrization='nl', # non-linear parametrization\n",
    "                                                     batch_size=1, max_iter=epochs, \n",
    "                                                     pars_track=pars_track, verbose=True)\n",
    "print('total time was ', t_desc)"
   ]
  },
  {
   "cell_type": "markdown",
   "metadata": {},
   "source": [
    "# visualize results"
   ]
  },
  {
   "cell_type": "code",
   "execution_count": null,
   "metadata": {},
   "outputs": [],
   "source": [
    "Qh = comp_model_covariances(pars_est, lag_range=lag_range) # model-predicted time-lagged covariances\n",
    "\n",
    "plt.figure(figsize=(16,9))\n",
    "plt.subplot(2,4,1)\n",
    "plt.plot(traces[0])\n",
    "plt.title('loss')\n",
    "plt.xlabel('epochs')\n",
    "plt.subplot(2,4,5)\n",
    "plt.plot(proj_errors)\n",
    "plt.title('principcal angles')\n",
    "plt.xlabel('epochs')\n",
    "\n",
    "plt.subplot(2,4,2)\n",
    "plt.imshow(Qe[0], interpolation='None')\n",
    "plt.title('empirical instant. cov.')\n",
    "plt.subplot(2,4,3)\n",
    "plt.imshow(Qh[0], interpolation='None')\n",
    "plt.title('est. instant. cov.')\n",
    "plt.subplot(2,4,4)\n",
    "plt.plot(Qe[0], Qh[0], 'k+')\n",
    "plt.xlabel('emp. inst. cov.')\n",
    "plt.ylabel('est. inst. cov.')\n",
    "plt.axis('square')\n",
    "\n",
    "tau = 2*n-1\n",
    "plt.subplot(2,4,6)\n",
    "plt.imshow(Qe[tau], interpolation='None')\n",
    "plt.title('empirical cov. at time-lag tau='+str(2*n-1))\n",
    "plt.subplot(2,4,7)\n",
    "plt.imshow(Qh[tau], interpolation='None')\n",
    "plt.title('est. cov. at time-lag tau='+str(2*n-1))\n",
    "plt.subplot(2,4,8)\n",
    "plt.plot(Qe[tau], Qh[tau], 'k+')\n",
    "plt.xlabel('emp. lagged cov.')\n",
    "plt.ylabel('est. lagged cov.')\n",
    "plt.axis('square')\n",
    "\n",
    "plt.show()"
   ]
  },
  {
   "cell_type": "code",
   "execution_count": null,
   "metadata": {},
   "outputs": [],
   "source": []
  }
 ],
 "metadata": {
  "kernelspec": {
   "display_name": "Python 3",
   "language": "python",
   "name": "python3"
  },
  "language_info": {
   "codemirror_mode": {
    "name": "ipython",
    "version": 3
   },
   "file_extension": ".py",
   "mimetype": "text/x-python",
   "name": "python",
   "nbconvert_exporter": "python",
   "pygments_lexer": "ipython3",
   "version": "3.5.1"
  }
 },
 "nbformat": 4,
 "nbformat_minor": 2
}
